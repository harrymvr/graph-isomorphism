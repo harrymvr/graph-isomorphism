{
 "metadata": {
  "name": "",
  "signature": "sha256:d02aeb8434086586d134c6e787cece07faa890ad23fc25e22b0b8294f6ecb1b8"
 },
 "nbformat": 3,
 "nbformat_minor": 0,
 "worksheets": [
  {
   "cells": [
    {
     "cell_type": "markdown",
     "metadata": {},
     "source": [
      "# Finding an isomorphism between unlabeled graphs\n",
      "\n",
      "### Problem definition\n",
      "Given two anonymized versions of a graph $G=(V,E)$, an interesting problem is to find the true mapping between the nodes of these two graphs. Generally, these two anonymized graphs could also have a slightly different set of edges (assume for example that they are the connections of a set of people in two different online social networks)\n",
      "\n",
      "This problem can be formulated as follows:\n",
      ">Given two graphs, $G_1  = (V,E_1)$ and $G_2 = (V,E_2)$ of size $n=|V|$, a \n",
      ">permutation $\\pi$ on $V$ maps the vertices from $G_1$ onto those in $G_2$. \n",
      ">\n",
      ">Find the \u201cbest\u201d such permutation, denoted by $\\pi_0$.\n",
      "\n",
      "### Measuring the error in a solution\n",
      "The cost of a permutation can be expressed in many different ways. One such measure is the **edge-inconsistency** between two graphs, $G_1$ and $G_2$ _[Pedarsani2011]_. This represents the number of edges that exist in one graph and not the other, under a matching $\\pi$. \\begin{equation} \\Delta_{\\pi} = \\sum_{e \\in E_1} \\mathbb{1}_{\\{\\pi(e) \\not\\in E_2\\}} + \\sum_{e \\in E_2} \\mathbb{1}_{\\{\\pi^{-1}(e) \\not\\in E_1\\}}                \\end{equation} Here $\\mathbb{1}_{\\{ A \\}}$ denotes the indicator function, and  $\\pi(e)$ denotes the mapped version of edge $e = (u,v)$, i.e.  $\\pi(e) = (\\pi(u), \\pi(v))$.\n"
     ]
    },
    {
     "cell_type": "code",
     "collapsed": false,
     "input": [
      "%matplotlib inline\n",
      "import networkx as nx\n",
      "import matplotlib.pyplot as plt\n",
      "import numpy as np"
     ],
     "language": "python",
     "metadata": {},
     "outputs": []
    },
    {
     "cell_type": "code",
     "collapsed": false,
     "input": [
      "# This helper function will be used to generate the seed for the randomness, so that we can be consistent\n",
      "import hashlib\n",
      "def hash_string(text):\n",
      "    print hashlib.md5(text).hexdigest()[0:7]\n",
      "    return int(hashlib.md5(text).hexdigest()[0:7], 16)"
     ],
     "language": "python",
     "metadata": {},
     "outputs": [],
     "prompt_number": 13
    },
    {
     "cell_type": "markdown",
     "metadata": {},
     "source": [
      "### References\n",
      "Pedarsani, Pedram, and Matthias Grossglauser. \"On the privacy of anonymized networks.\" Proceedings of the 17th ACM SIGKDD international conference on Knowledge discovery and data mining. ACM, 2011."
     ]
    }
   ],
   "metadata": {}
  }
 ]
}